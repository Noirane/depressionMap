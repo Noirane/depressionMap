{
  "nbformat": 4,
  "nbformat_minor": 0,
  "metadata": {
    "colab": {
      "provenance": []
    },
    "kernelspec": {
      "name": "python3",
      "display_name": "Python 3"
    },
    "language_info": {
      "name": "python"
    }
  },
  "cells": [
    {
      "cell_type": "code",
      "execution_count": 1,
      "metadata": {
        "colab": {
          "base_uri": "https://localhost:8080/"
        },
        "id": "QV_pZb2OMjJe",
        "outputId": "479e365b-c6e0-4729-ac07-3cef9acbfe16"
      },
      "outputs": [
        {
          "output_type": "stream",
          "name": "stdout",
          "text": [
            "Mounted at /content/drive\n"
          ]
        }
      ],
      "source": [
        "from google.colab import drive\n",
        "drive.mount('/content/drive')"
      ]
    },
    {
      "cell_type": "code",
      "source": [
        "from sklearn.impute import SimpleImputer\n",
        "from sklearn.preprocessing import StandardScaler\n",
        "from sklearn.model_selection import train_test_split\n",
        "from sklearn.linear_model import LogisticRegression\n",
        "from sklearn.model_selection import cross_val_score\n",
        "import pandas as pd\n",
        "\n",
        "file_path = '/content/drive/My Drive/calc/dataset.csv'\n",
        "data = pd.read_csv(file_path)\n",
        "\n",
        "\n",
        "X = data.drop(columns=['soma_depressao', 'indice_depressao'])\n",
        "y = data['indice_depressao']\n",
        "\n",
        "\n",
        "imputer = SimpleImputer(strategy='mean')\n",
        "X = pd.DataFrame(imputer.fit_transform(X), columns=X.columns)\n",
        "\n",
        "\n",
        "X_train, X_test, y_train, y_test = train_test_split(X, y, test_size=0.2, random_state=42)\n",
        "\n",
        "\n",
        "scaler = StandardScaler()\n",
        "X_train_scaled = pd.DataFrame(scaler.fit_transform(X_train), columns=X.columns)\n",
        "X_test_scaled = pd.DataFrame(scaler.transform(X_test), columns=X.columns)\n",
        "\n",
        "# validação cruzada 10-fold\n",
        "model = LogisticRegression()\n",
        "scores = cross_val_score(model, X_train_scaled, y_train, cv=10)\n",
        "\n",
        "print(f'Acurácia média em 10-fold cross-validation: {scores.mean()}')\n",
        "print(f'Precisão em cada fold: {scores}')\n"
      ],
      "metadata": {
        "colab": {
          "base_uri": "https://localhost:8080/"
        },
        "id": "5ZRR4Z9zMojh",
        "outputId": "4ee9b3db-3f87-4b18-f5d1-7079024b13fa"
      },
      "execution_count": 2,
      "outputs": [
        {
          "output_type": "stream",
          "name": "stdout",
          "text": [
            "Acurácia média em 10-fold cross-validation: 1.0\n",
            "Precisão em cada fold: [1. 1. 1. 1. 1. 1. 1. 1. 1. 1.]\n"
          ]
        }
      ]
    }
  ]
}