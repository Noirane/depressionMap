{
  "nbformat": 4,
  "nbformat_minor": 0,
  "metadata": {
    "colab": {
      "provenance": []
    },
    "kernelspec": {
      "name": "python3",
      "display_name": "Python 3"
    },
    "language_info": {
      "name": "python"
    }
  },
  "cells": [
    {
      "cell_type": "code",
      "execution_count": null,
      "metadata": {
        "colab": {
          "base_uri": "https://localhost:8080/"
        },
        "id": "6x0J6m98P3Cv",
        "outputId": "11ad092d-f4ac-4d30-cbbe-503409a9e156"
      },
      "outputs": [
        {
          "output_type": "stream",
          "name": "stdout",
          "text": [
            "Mounted at /content/drive\n"
          ]
        }
      ],
      "source": [
        "from google.colab import drive\n",
        "drive.mount('/content/drive')"
      ]
    },
    {
      "cell_type": "code",
      "source": [
        "!pip install shap\n",
        "!pip install catboost"
      ],
      "metadata": {
        "colab": {
          "base_uri": "https://localhost:8080/"
        },
        "id": "lo8PV3yjP9zm",
        "outputId": "f378a8f9-6401-4d57-a6ab-adacaa396256"
      },
      "execution_count": null,
      "outputs": [
        {
          "output_type": "stream",
          "name": "stdout",
          "text": [
            "Requirement already satisfied: shap in /usr/local/lib/python3.10/dist-packages (0.46.0)\n",
            "Requirement already satisfied: numpy in /usr/local/lib/python3.10/dist-packages (from shap) (1.26.4)\n",
            "Requirement already satisfied: scipy in /usr/local/lib/python3.10/dist-packages (from shap) (1.13.1)\n",
            "Requirement already satisfied: scikit-learn in /usr/local/lib/python3.10/dist-packages (from shap) (1.5.2)\n",
            "Requirement already satisfied: pandas in /usr/local/lib/python3.10/dist-packages (from shap) (2.2.2)\n",
            "Requirement already satisfied: tqdm>=4.27.0 in /usr/local/lib/python3.10/dist-packages (from shap) (4.66.6)\n",
            "Requirement already satisfied: packaging>20.9 in /usr/local/lib/python3.10/dist-packages (from shap) (24.1)\n",
            "Requirement already satisfied: slicer==0.0.8 in /usr/local/lib/python3.10/dist-packages (from shap) (0.0.8)\n",
            "Requirement already satisfied: numba in /usr/local/lib/python3.10/dist-packages (from shap) (0.60.0)\n",
            "Requirement already satisfied: cloudpickle in /usr/local/lib/python3.10/dist-packages (from shap) (3.1.0)\n",
            "Requirement already satisfied: llvmlite<0.44,>=0.43.0dev0 in /usr/local/lib/python3.10/dist-packages (from numba->shap) (0.43.0)\n",
            "Requirement already satisfied: python-dateutil>=2.8.2 in /usr/local/lib/python3.10/dist-packages (from pandas->shap) (2.8.2)\n",
            "Requirement already satisfied: pytz>=2020.1 in /usr/local/lib/python3.10/dist-packages (from pandas->shap) (2024.2)\n",
            "Requirement already satisfied: tzdata>=2022.7 in /usr/local/lib/python3.10/dist-packages (from pandas->shap) (2024.2)\n",
            "Requirement already satisfied: joblib>=1.2.0 in /usr/local/lib/python3.10/dist-packages (from scikit-learn->shap) (1.4.2)\n",
            "Requirement already satisfied: threadpoolctl>=3.1.0 in /usr/local/lib/python3.10/dist-packages (from scikit-learn->shap) (3.5.0)\n",
            "Requirement already satisfied: six>=1.5 in /usr/local/lib/python3.10/dist-packages (from python-dateutil>=2.8.2->pandas->shap) (1.16.0)\n",
            "Collecting catboost\n",
            "  Downloading catboost-1.2.7-cp310-cp310-manylinux2014_x86_64.whl.metadata (1.2 kB)\n",
            "Requirement already satisfied: graphviz in /usr/local/lib/python3.10/dist-packages (from catboost) (0.20.3)\n",
            "Requirement already satisfied: matplotlib in /usr/local/lib/python3.10/dist-packages (from catboost) (3.8.0)\n",
            "Requirement already satisfied: numpy<2.0,>=1.16.0 in /usr/local/lib/python3.10/dist-packages (from catboost) (1.26.4)\n",
            "Requirement already satisfied: pandas>=0.24 in /usr/local/lib/python3.10/dist-packages (from catboost) (2.2.2)\n",
            "Requirement already satisfied: scipy in /usr/local/lib/python3.10/dist-packages (from catboost) (1.13.1)\n",
            "Requirement already satisfied: plotly in /usr/local/lib/python3.10/dist-packages (from catboost) (5.24.1)\n",
            "Requirement already satisfied: six in /usr/local/lib/python3.10/dist-packages (from catboost) (1.16.0)\n",
            "Requirement already satisfied: python-dateutil>=2.8.2 in /usr/local/lib/python3.10/dist-packages (from pandas>=0.24->catboost) (2.8.2)\n",
            "Requirement already satisfied: pytz>=2020.1 in /usr/local/lib/python3.10/dist-packages (from pandas>=0.24->catboost) (2024.2)\n",
            "Requirement already satisfied: tzdata>=2022.7 in /usr/local/lib/python3.10/dist-packages (from pandas>=0.24->catboost) (2024.2)\n",
            "Requirement already satisfied: contourpy>=1.0.1 in /usr/local/lib/python3.10/dist-packages (from matplotlib->catboost) (1.3.0)\n",
            "Requirement already satisfied: cycler>=0.10 in /usr/local/lib/python3.10/dist-packages (from matplotlib->catboost) (0.12.1)\n",
            "Requirement already satisfied: fonttools>=4.22.0 in /usr/local/lib/python3.10/dist-packages (from matplotlib->catboost) (4.54.1)\n",
            "Requirement already satisfied: kiwisolver>=1.0.1 in /usr/local/lib/python3.10/dist-packages (from matplotlib->catboost) (1.4.7)\n",
            "Requirement already satisfied: packaging>=20.0 in /usr/local/lib/python3.10/dist-packages (from matplotlib->catboost) (24.1)\n",
            "Requirement already satisfied: pillow>=6.2.0 in /usr/local/lib/python3.10/dist-packages (from matplotlib->catboost) (10.4.0)\n",
            "Requirement already satisfied: pyparsing>=2.3.1 in /usr/local/lib/python3.10/dist-packages (from matplotlib->catboost) (3.2.0)\n",
            "Requirement already satisfied: tenacity>=6.2.0 in /usr/local/lib/python3.10/dist-packages (from plotly->catboost) (9.0.0)\n",
            "Downloading catboost-1.2.7-cp310-cp310-manylinux2014_x86_64.whl (98.7 MB)\n",
            "\u001b[2K   \u001b[90m━━━━━━━━━━━━━━━━━━━━━━━━━━━━━━━━━━━━━━━━\u001b[0m \u001b[32m98.7/98.7 MB\u001b[0m \u001b[31m8.7 MB/s\u001b[0m eta \u001b[36m0:00:00\u001b[0m\n",
            "\u001b[?25hInstalling collected packages: catboost\n",
            "Successfully installed catboost-1.2.7\n"
          ]
        }
      ]
    },
    {
      "cell_type": "code",
      "source": [
        "import pandas as pd\n",
        "import joblib\n",
        "from sklearn.metrics import accuracy_score\n",
        "from sklearn.model_selection import train_test_split\n",
        "from sklearn.preprocessing import StandardScaler\n",
        "from sklearn.impute import SimpleImputer\n",
        "from sklearn.ensemble import RandomForestClassifier, AdaBoostClassifier\n",
        "from sklearn.svm import SVC\n",
        "from sklearn.linear_model import LogisticRegression\n",
        "from sklearn.neighbors import KNeighborsClassifier\n",
        "from sklearn.naive_bayes import GaussianNB\n",
        "from xgboost import XGBClassifier\n",
        "from sklearn.tree import DecisionTreeClassifier\n",
        "from catboost import CatBoostClassifier\n",
        "from google.colab import files\n",
        "import numpy as np\n",
        "import shap\n",
        "import matplotlib.pyplot as plt\n",
        "import json\n",
        "\n",
        "def prever_indice_depressao(data):\n",
        "    X = data.drop(columns=['soma_depressao', 'indice_depressao'])\n",
        "    y = data['indice_depressao']\n",
        "\n",
        "    imputer = SimpleImputer(strategy='mean')\n",
        "    X = pd.DataFrame(imputer.fit_transform(X), columns=X.columns)\n",
        "\n",
        "    X_train, X_test, y_train, y_test = train_test_split(X, y, test_size=0.2, random_state=42, stratify=y)\n",
        "\n",
        "    scaler = StandardScaler()\n",
        "    X_train_scaled = pd.DataFrame(scaler.fit_transform(X_train), columns=X.columns)\n",
        "    X_test_scaled = pd.DataFrame(scaler.transform(X_test), columns=X.columns)\n",
        "\n",
        "    # Dicionário de modelos\n",
        "    modelos = {\n",
        "        'Random Forest': RandomForestClassifier(),\n",
        "        'SVM': SVC(),\n",
        "        'Logistic Regression': LogisticRegression(),\n",
        "        'K-Nearest Neighbors': KNeighborsClassifier(),\n",
        "        'Naive Bayes': GaussianNB(),\n",
        "        'XGBoost': XGBClassifier(),\n",
        "        'Decision Tree': DecisionTreeClassifier(),\n",
        "        'AdaBoost': AdaBoostClassifier(),\n",
        "        'CatBoost': CatBoostClassifier(verbose=0),\n",
        "    }\n",
        "\n",
        "    modelos_treinados = {}\n",
        "    metricas_modelos = {}\n",
        "\n",
        "    for nome, modelo in modelos.items():\n",
        "        modelo.fit(X_train_scaled, y_train)\n",
        "        y_pred = modelo.predict(X_test_scaled)\n",
        "        accuracy = accuracy_score(y_test, y_pred)\n",
        "        modelos_treinados[nome] = {'modelo': modelo, 'accuracy': accuracy}\n",
        "        metricas_modelos[nome] = accuracy  # Armazenar as acurácias para o JSON\n",
        "        print(f\"Acurácia do {nome}: {accuracy:.4f}\")  # Imprimir a acurácia de cada modelo\n",
        "\n",
        "    joblib.dump(modelos_treinados, 'modelos_treinados.pkl')\n",
        "\n",
        "    # Salvar as métricas no JSON\n",
        "    with open('/content/drive/My Drive/ComparativoAMDepressao/metricas_modelos.json', 'w') as f:\n",
        "        json.dump(metricas_modelos, f)\n",
        "\n",
        "    return modelos_treinados, X_train_scaled, X_test_scaled, y_train, y_test\n",
        "\n",
        "# Função para calcular a importância das variáveis com SHAP\n",
        "def calcular_shap_importance_logistic_regression(X_train_scaled, X_test_scaled, modelo):\n",
        "    # Inicializar o explicador SHAP apropriado para modelos lineares\n",
        "    explainer = shap.Explainer(modelo, X_train_scaled)\n",
        "\n",
        "    shap_values = explainer(X_test_scaled)\n",
        "\n",
        "    #  matriz completa de valores SHAP\n",
        "    shap_values_df = pd.DataFrame(shap_values.values.reshape(-1, shap_values.values.shape[1]), columns=X_test_scaled.columns)\n",
        "    shap_values_df.to_csv('/content/drive/My Drive/ComparativoAMDepressao/shap_values_matrix.csv', index=False)\n",
        "\n",
        "    # Calcular a importância média das variáveis\n",
        "    shap_importance = np.mean(np.abs(shap_values.values), axis=(0, 2))  # Média sobre as amostras e classes\n",
        "\n",
        "    shap_importance_df = pd.DataFrame({\n",
        "        'Feature': X_test_scaled.columns,\n",
        "        'Mean Absolute SHAP Value': shap_importance\n",
        "    })\n",
        "\n",
        "    # ordenar por importância\n",
        "    shap_importance_df = shap_importance_df.sort_values(by='Mean Absolute SHAP Value', ascending=False)\n",
        "\n",
        "    # info do gráfico a serem salvas\n",
        "    grafico_info = {\n",
        "        \"features\": shap_importance_df['Feature'].tolist(),\n",
        "        \"mean_abs_shap_values\": shap_importance_df['Mean Absolute SHAP Value'].tolist(),\n",
        "        \"color\": \"skyblue\",\n",
        "        \"figsize\": (12, 8),\n",
        "        \"xlabel\": \"Mean Absolute SHAP Value\",\n",
        "        \"ylabel\": \"Feature\",\n",
        "        \"title\": \"Importância das Variáveis com Base nos Valores SHAP\",\n",
        "        \"save_path\": '/content/drive/My Drive/ComparativoAMDepressao/shap_importance_plot.png'\n",
        "    }\n",
        "\n",
        "    # Salvararquivo JSON\n",
        "    with open('/content/drive/My Drive/ComparativoAMDepressao/grafico_info.json', 'w') as f:\n",
        "        json.dump(grafico_info, f)\n",
        "\n",
       
        "    plt.figure(figsize=(12, 8))\n",
        "    plt.barh(shap_importance_df['Feature'], shap_importance_df['Mean Absolute SHAP Value'], color='skyblue')\n",
        "    plt.xlabel('Mean Absolute SHAP Value', fontsize=12)\n",
        "    plt.ylabel('Feature', fontsize=12)\n",
        "    plt.title('Importance of Variables Based on SHAP Values', fontsize=14)\n",
        "    plt.gca().invert_yaxis()  # Inverter o eixo y para mostrar as variáveis mais importantes no topo\n",
        "    plt.tight_layout()\n",
        "\n",
      
        "    for index, value in enumerate(shap_importance_df['Mean Absolute SHAP Value']):\n",
        "        plt.text(value, index, f'{value:.4f}', va='center')\n",
        "\n",

        "    plt.savefig(grafico_info['save_path'])\n",
        "\n",
  
        "    plt.show()\n",
        "\n",
        "# Carregar os dados\n",
        "file_path = '/content/drive/My Drive/calc/dataset.csv'\n",
        "data = pd.read_csv(file_path)\n",
        "\n",
        "# Treinar e salvar os modelos\n",
        "modelos_treinados, X_train_scaled, X_test_scaled, y_train, y_test = prever_indice_depressao(data)\n",
        "\n",

        "calcular_shap_importance_logistic_regression(X_train_scaled, X_test_scaled, modelos_treinados['Logistic Regression']['modelo'])\n",
        "\n",
        "# Fazer o download dos arquivos de modelos e JSONs\n",
        "files.download('modelos_treinados.pkl')\n",
        "files.download('/content/drive/My Drive/ComparativoAMDepressao/grafico_info.json')\n",
        "files.download('/content/drive/My Drive/ComparativoAMDepressao/metricas_modelos.json')\n"
      ],
      "metadata": {
        "colab": {
          "base_uri": "https://localhost:8080/",
          "height": 1000
        },
        "id": "s9f7RAW_x0MB",
        "outputId": "31ac702e-1f26-4b1c-b914-e0c814e523c9"
      },
      "execution_count": null,
      "outputs": [
        {
          "output_type": "stream",
          "name": "stdout",
          "text": [
            "Acurácia do Random Forest: 0.9189\n",
            "Acurácia do SVM: 0.9929\n",
            "Acurácia do Logistic Regression: 1.0000\n",
            "Acurácia do K-Nearest Neighbors: 0.8806\n",
            "Acurácia do Naive Bayes: 0.8749\n",
            "Acurácia do XGBoost: 0.9461\n",
            "Acurácia do Decision Tree: 0.8051\n"
          ]
        },
        {
          "output_type": "stream",
          "name": "stderr",
          "text": [
            "/usr/local/lib/python3.10/dist-packages/sklearn/ensemble/_weight_boosting.py:527: FutureWarning: The SAMME.R algorithm (the default) is deprecated and will be removed in 1.6. Use the SAMME algorithm to circumvent this warning.\n",
            "  warnings.warn(\n"
          ]
        },
        {
          "output_type": "stream",
          "name": "stdout",
          "text": [
            "Acurácia do AdaBoost: 0.7276\n",
            "Acurácia do CatBoost: 0.9832\n"
          ]
        },
        {
          "output_type": "display_data",
          "data": {
            "text/plain": [
              "<Figure size 1200x800 with 1 Axes>"
            ],
            "image/png": "[encoded data removed]"
          },
          "metadata": {}
        },
        {
          "output_type": "display_data",
          "data": {
            "text/plain": [
              "<IPython.core.display.Javascript object>"
            ],
            "application/javascript": [
              "\n",
              "    async function download(id, filename, size) {\n",
              "      if (!google.colab.kernel.accessAllowed) {\n",
              "        return;\n",
              "      }\n",
              "      const div = document.createElement('div');\n",
              "      const label = document.createElement('label');\n",
              "      label.textContent = `Downloading \"${filename}\": `;\n",
              "      div.appendChild(label);\n",
              "      const progress = document.createElement('progress');\n",
              "      progress.max = size;\n",
              "      div.appendChild(progress);\n",
              "      document.body.appendChild(div);\n",
              "\n",
              "      const buffers = [];\n",
              "      let downloaded = 0;\n",
              "\n",
              "      const channel = await google.colab.kernel.comms.open(id);\n",
              "      // Send a message to notify the kernel that we're ready.\n",
              "      channel.send({})\n",
              "\n",
              "      for await (const message of channel.messages) {\n",
              "        // Send a message to notify the kernel that we're ready.\n",
              "        channel.send({})\n",
              "        if (message.buffers) {\n",
              "          for (const buffer of message.buffers) {\n",
              "            buffers.push(buffer);\n",
              "            downloaded += buffer.byteLength;\n",
              "            progress.value = downloaded;\n",
              "          }\n",
              "        }\n",
              "      }\n",
              "      const blob = new Blob(buffers, {type: 'application/binary'});\n",
              "      const a = document.createElement('a');\n",
              "      a.href = window.URL.createObjectURL(blob);\n",
              "      a.download = filename;\n",
              "      div.appendChild(a);\n",
              "      a.click();\n",
              "      div.remove();\n",
              "    }\n",
              "  "
            ]
          },
          "metadata": {}
        },
        {
          "output_type": "display_data",
          "data": {
            "text/plain": [
              "<IPython.core.display.Javascript object>"
            ],
            "application/javascript": [
              "download(\"download_f74cadff-fb9b-4694-ac6a-99f6a6e8c069\", \"modelos_treinados.pkl\", 71625136)"
            ]
          },
          "metadata": {}
        },
        {
          "output_type": "display_data",
          "data": {
            "text/plain": [
              "<IPython.core.display.Javascript object>"
            ],
            "application/javascript": [
              "\n",
              "    async function download(id, filename, size) {\n",
              "      if (!google.colab.kernel.accessAllowed) {\n",
              "        return;\n",
              "      }\n",
              "      const div = document.createElement('div');\n",
              "      const label = document.createElement('label');\n",
              "      label.textContent = `Downloading \"${filename}\": `;\n",
              "      div.appendChild(label);\n",
              "      const progress = document.createElement('progress');\n",
              "      progress.max = size;\n",
              "      div.appendChild(progress);\n",
              "      document.body.appendChild(div);\n",
              "\n",
              "      const buffers = [];\n",
              "      let downloaded = 0;\n",
              "\n",
              "      const channel = await google.colab.kernel.comms.open(id);\n",
              "      // Send a message to notify the kernel that we're ready.\n",
              "      channel.send({})\n",
              "\n",
              "      for await (const message of channel.messages) {\n",
              "        // Send a message to notify the kernel that we're ready.\n",
              "        channel.send({})\n",
              "        if (message.buffers) {\n",
              "          for (const buffer of message.buffers) {\n",
              "            buffers.push(buffer);\n",
              "            downloaded += buffer.byteLength;\n",
              "            progress.value = downloaded;\n",
              "          }\n",
              "        }\n",
              "      }\n",
              "      const blob = new Blob(buffers, {type: 'application/binary'});\n",
              "      const a = document.createElement('a');\n",
              "      a.href = window.URL.createObjectURL(blob);\n",
              "      a.download = filename;\n",
              "      div.appendChild(a);\n",
              "      a.click();\n",
              "      div.remove();\n",
              "    }\n",
              "  "
            ]
          },
          "metadata": {}
        },
        {
          "output_type": "display_data",
          "data": {
            "text/plain": [
              "<IPython.core.display.Javascript object>"
            ],
            "application/javascript": [
              "download(\"download_6f2fd9eb-4843-4882-a7a1-688bcd604472\", \"grafico_info.json\", 845)"
            ]
          },
          "metadata": {}
        },
        {
          "output_type": "display_data",
          "data": {
            "text/plain": [
              "<IPython.core.display.Javascript object>"
            ],
            "application/javascript": [
              "\n",
              "    async function download(id, filename, size) {\n",
              "      if (!google.colab.kernel.accessAllowed) {\n",
              "        return;\n",
              "      }\n",
              "      const div = document.createElement('div');\n",
              "      const label = document.createElement('label');\n",
              "      label.textContent = `Downloading \"${filename}\": `;\n",
              "      div.appendChild(label);\n",
              "      const progress = document.createElement('progress');\n",
              "      progress.max = size;\n",
              "      div.appendChild(progress);\n",
              "      document.body.appendChild(div);\n",
              "\n",
              "      const buffers = [];\n",
              "      let downloaded = 0;\n",
              "\n",
              "      const channel = await google.colab.kernel.comms.open(id);\n",
              "      // Send a message to notify the kernel that we're ready.\n",
              "      channel.send({})\n",
              "\n",
              "      for await (const message of channel.messages) {\n",
              "        // Send a message to notify the kernel that we're ready.\n",
              "        channel.send({})\n",
              "        if (message.buffers) {\n",
              "          for (const buffer of message.buffers) {\n",
              "            buffers.push(buffer);\n",
              "            downloaded += buffer.byteLength;\n",
              "            progress.value = downloaded;\n",
              "          }\n",
              "        }\n",
              "      }\n",
              "      const blob = new Blob(buffers, {type: 'application/binary'});\n",
              "      const a = document.createElement('a');\n",
              "      a.href = window.URL.createObjectURL(blob);\n",
              "      a.download = filename;\n",
              "      div.appendChild(a);\n",
              "      a.click();\n",
              "      div.remove();\n",
              "    }\n",
              "  "
            ]
          },
          "metadata": {}
        },
        {
          "output_type": "display_data",
          "data": {
            "text/plain": [
              "<IPython.core.display.Javascript object>"
            ],
            "application/javascript": [
              "download(\"download_a1d182a8-5bec-464b-95ab-cc4819e57166\", \"metricas_modelos.json\", 301)"
            ]
          },
          "metadata": {}
        }
      ]
    },
    {
      "cell_type": "code",
      "source": [
        "import pandas as pd\n",
        "\n",
     
        "file_path = '/content/drive/My Drive/calc/dataset.csv'\n",
        "data = pd.read_csv(file_path)\n",
        "\n",
        "# Novo dicionário mapeando números de países para os respectivos códigos ISO atualizados\n",
        "country_dict = {\n",
        "    1: 'AE', 2: 'AR', 3: 'AT', 4: 'AU', 5: 'BE', 6: 'BN', 7: 'BR', 8: 'CA', 9: 'CH', 10: 'CZ',\n",
        "    11: 'DE', 12: 'DK', 13: 'EG', 14: 'ES', 15: 'FI', 16: 'FR', 17: 'GB', 18: 'GR', 19: 'HK', 20: 'HR',\n",
        "    21: 'HU', 22: 'ID', 23: 'IE', 24: 'IN', 25: 'IT', 26: 'JM', 27: 'JP', 28: 'MX', 29: 'MY', 30: 'NL',\n",
        "    31: 'NO', 32: 'NZ', 33: 'PH', 34: 'PK', 35: 'PL', 36: 'PT', 37: 'RO', 38: 'RS', 39: 'RU', 40: 'SA',\n",
        "    41: 'SE', 42: 'SG', 43: 'TR', 44: 'US', 45: 'VN', 46: 'ZA'\n",
        "}\n",
        "\n",
        "# Dicionário \n",
        "country_name_dict = {\n",
        "    'AE': 'United Arab Emirates', 'AR': 'Argentina', 'AT': 'Austria', 'AU': 'Australia', 'BE': 'Belgium',\n",
        "    'BN': 'Brunei', 'BR': 'Brazil', 'CA': 'Canada', 'CH': 'Switzerland', 'CZ': 'Czech Republic',\n",
        "    'DE': 'Germany', 'DK': 'Denmark', 'EG': 'Egypt', 'ES': 'Spain', 'FI': 'Finland', 'FR': 'France',\n",
        "    'GB': 'United Kingdom', 'GR': 'Greece', 'HK': 'Hong Kong', 'HR': 'Croatia', 'HU': 'Hungary',\n",
        "    'ID': 'Indonesia', 'IE': 'Ireland', 'IN': 'India', 'IT': 'Italy', 'JM': 'Jamaica', 'JP': 'Japan',\n",
        "    'MX': 'Mexico', 'MY': 'Malaysia', 'NL': 'Netherlands', 'NO': 'Norway', 'NZ': 'New Zealand',\n",
        "    'PH': 'Philippines', 'PK': 'Pakistan', 'PL': 'Poland', 'PT': 'Portugal', 'RO': 'Romania', 'RS': 'Serbia',\n",
        "    'RU': 'Russia', 'SA': 'Saudi Arabia', 'SE': 'Sweden', 'SG': 'Singapore', 'TR': 'Turkey', 'US': 'United States',\n",
        "    'VN': 'Vietnam', 'ZA': 'South Africa'\n",
        "}\n",
        "\n",
        "# dicionário para mapear países para continentes\n",
        "continent_dict = {\n",
        "    'AE': 'Asia', 'AR': 'South America', 'AT': 'Europe', 'AU': 'Australia/New Zealand', 'BE': 'Europe', 'BN': 'Asia',\n",
        "    'BR': 'South America', 'CA': 'North America', 'CH': 'Europe', 'CZ': 'Europe', 'DE': 'Europe', 'DK': 'Europe',\n",
        "    'EG': 'Africa', 'ES': 'Europe', 'FI': 'Europe', 'FR': 'Europe', 'GB': 'Europe', 'GR': 'Europe', 'HK': 'Asia',\n",
        "    'HR': 'Europe', 'HU': 'Europe', 'ID': 'Asia', 'IE': 'Europe', 'IN': 'Asia', 'IT': 'Europe', 'JM': 'North America',\n",
        "    'JP': 'Asia', 'MX': 'North America', 'MY': 'Asia', 'NL': 'Europe', 'NO': 'Europe', 'NZ': 'Australia/New Zealand',\n",
        "    'PH': 'Asia', 'PK': 'Asia', 'PL': 'Europe', 'PT': 'Europe', 'RO': 'Europe', 'RS': 'Europe', 'RU': 'Europe',\n",
        "    'SA': 'Asia', 'SE': 'Europe', 'SG': 'Asia', 'TR': 'Asia', 'US': 'North America', 'VN': 'Asia', 'ZA': 'Africa'\n",
        "}\n",
        "\n",
        "# Verificar se as colunas 'country' e 'indice_depressao' estão no dataset\n",
        "if 'country' in data.columns and 'indice_depressao' in data.columns:\n",
        "    # Mapear os números de país para seus códigos ISO e continentes\n",
        "    data['country_code'] = data['country'].map(country_dict)\n",
        "    data['continent'] = data['country_code'].map(continent_dict)\n",
        "\n",
        "    # Verificar se o mapeamento foi realizado corretamente\n",
        "    print(\"Exemplo de mapeamento de países para códigos ISO e continentes:\")\n",
        "    print(data[['country', 'country_code', 'continent']].head())\n",
        "\n",
        "    # Contagem de participantes por continente\n",
        "    continent_counts = data['continent'].value_counts()\n",
        "\n",
       
        "    for continent in continent_counts.index:\n",
        "        print(f\"\\nContinente: {continent}, Total de participantes: {continent_counts[continent]}\")\n",
        "        countries_in_continent = data[data['continent'] == continent]['country_code'].value_counts()\n",
        "\n",
        "        continent_avg_depression = 0\n",
        "        country_count = 0\n",
        "\n",
        "        for country_code, count in countries_in_continent.items():\n",
        "            avg_depression = data[data['country_code'] == country_code]['indice_depressao'].mean()\n",
        "            country_name = country_name_dict[country_code]  # Obter o nome do país\n",
        "            print(f\"  País: {country_name}, Participantes: {count}, Média do Índice de Depressão: {avg_depression:.2f}\")\n",
        "\n",
        "            # Somar para calcular a média do continente\n",
        "            continent_avg_depression += avg_depression\n",
        "            country_count += 1\n",
        "\n",
    
        "        continent_avg_depression /= country_count\n",
        "        print(f\"Média do Índice de Depressão no Continente ({continent}): {continent_avg_depression:.2f}\")\n",
        "\n",
        "    # Exibir a soma total de todos os participantes\n",
        "    total_participants = continent_counts.sum()\n",
        "    print(f\"\\nTotal de participantes em todos os continentes: {total_participants}\")\n",
        "\n",
        "else:\n",
        "    print(\"As colunas 'country' ou 'indice_depressao' não foram encontradas no dataset.\")\n"
      ],
      "metadata": {
        "colab": {
          "base_uri": "https://localhost:8080/"
        },
        "id": "B-iky9bBDVhJ",
        "outputId": "eac4e5df-3c86-4036-d4a0-93918e95d517"
      },
      "execution_count": null,
      "outputs": [
        {
          "output_type": "stream",
          "name": "stdout",
          "text": [
            "Exemplo de mapeamento de países para códigos ISO e continentes:\n",
            "   country country_code continent\n",
            "0        1           AE      Asia\n",
            "1        1           AE      Asia\n",
            "2        1           AE      Asia\n",
            "3        1           AE      Asia\n",
            "4        1           AE      Asia\n",
            "\n",
            "Continente: Asia, Total de participantes: 16652\n",
            "  País: Malaysia, Participantes: 14538, Média do Índice de Depressão: 2.15\n",
            "  País: Indonesia, Participantes: 559, Média do Índice de Depressão: 2.33\n",
            "  País: Philippines, Participantes: 456, Média do Índice de Depressão: 2.49\n",
            "  País: India, Participantes: 307, Média do Índice de Depressão: 2.19\n",
            "  País: Singapore, Participantes: 179, Média do Índice de Depressão: 2.24\n",
            "  País: Brunei, Participantes: 126, Média do Índice de Depressão: 2.34\n",
            "  País: Japan, Participantes: 90, Média do Índice de Depressão: 1.84\n",
            "  País: Turkey, Participantes: 83, Média do Índice de Depressão: 2.54\n",
            "  País: Pakistan, Participantes: 81, Média do Índice de Depressão: 2.43\n",
            "  País: Hong Kong, Participantes: 65, Média do Índice de Depressão: 1.88\n",
            "  País: Saudi Arabia, Participantes: 60, Média do Índice de Depressão: 1.65\n",
            "  País: United Arab Emirates, Participantes: 59, Média do Índice de Depressão: 2.17\n",
            "  País: Vietnam, Participantes: 49, Média do Índice de Depressão: 2.22\n",
            "Média do Índice de Depressão no Continente (Asia): 2.19\n",
            "\n",
            "Continente: North America, Total de participantes: 4680\n",
            "  País: United States, Participantes: 3974, Média do Índice de Depressão: 2.26\n",
            "  País: Canada, Participantes: 545, Média do Índice de Depressão: 2.33\n",
            "  País: Mexico, Participantes: 102, Média do Índice de Depressão: 2.28\n",
            "  País: Jamaica, Participantes: 59, Média do Índice de Depressão: 2.37\n",
            "Média do Índice de Depressão no Continente (North America): 2.31\n",
            "\n",
            "Continente: Europe, Total de participantes: 2453\n",
            "  País: United Kingdom, Participantes: 664, Média do Índice de Depressão: 2.39\n",
            "  País: Germany, Participantes: 205, Média do Índice de Depressão: 2.43\n",
            "  País: France, Participantes: 153, Média do Índice de Depressão: 2.02\n",
            "  País: Poland, Participantes: 123, Média do Índice de Depressão: 2.82\n",
            "  País: Italy, Participantes: 117, Média do Índice de Depressão: 2.62\n",
            "  País: Romania, Participantes: 104, Média do Índice de Depressão: 2.06\n",
            "  País: Netherlands, Participantes: 94, Média do Índice de Depressão: 2.29\n",
            "  País: Finland, Participantes: 77, Média do Índice de Depressão: 2.65\n",
            "  País: Ireland, Participantes: 75, Média do Índice de Depressão: 2.12\n",
            "  País: Spain, Participantes: 72, Média do Índice de Depressão: 2.25\n",
            "  País: Greece, Participantes: 71, Média do Índice de Depressão: 2.08\n",
            "  País: Sweden, Participantes: 68, Média do Índice de Depressão: 2.51\n",
            "  País: Serbia, Participantes: 68, Média do Índice de Depressão: 1.56\n",
            "  País: Portugal, Participantes: 64, Média do Índice de Depressão: 2.45\n",
            "  País: Russia, Participantes: 62, Média do Índice de Depressão: 2.34\n",
            "  País: Switzerland, Participantes: 59, Média do Índice de Depressão: 2.20\n",
            "  País: Croatia, Participantes: 57, Média do Índice de Depressão: 2.56\n",
            "  País: Hungary, Participantes: 55, Média do Índice de Depressão: 2.51\n",
            "  País: Czech Republic, Participantes: 55, Média do Índice de Depressão: 2.75\n",
            "  País: Norway, Participantes: 54, Média do Índice de Depressão: 2.17\n",
            "  País: Austria, Participantes: 54, Média do Índice de Depressão: 2.63\n",
            "  País: Denmark, Participantes: 53, Média do Índice de Depressão: 2.06\n",
            "  País: Belgium, Participantes: 49, Média do Índice de Depressão: 2.49\n",
            "Média do Índice de Depressão no Continente (Europe): 2.35\n",
            "\n",
            "Continente: Australia/New Zealand, Total de participantes: 520\n",
            "  País: Australia, Participantes: 372, Média do Índice de Depressão: 2.34\n",
            "  País: New Zealand, Participantes: 148, Média do Índice de Depressão: 2.38\n",
            "Média do Índice de Depressão no Continente (Australia/New Zealand): 2.36\n",
            "\n",
            "Continente: South America, Total de participantes: 185\n",
            "  País: Brazil, Participantes: 132, Média do Índice de Depressão: 2.37\n",
            "  País: Argentina, Participantes: 53, Média do Índice de Depressão: 2.57\n",
            "Média do Índice de Depressão no Continente (South America): 2.47\n",
            "\n",
            "Continente: Africa, Total de participantes: 165\n",
            "  País: South Africa, Participantes: 88, Média do Índice de Depressão: 1.91\n",
            "  País: Egypt, Participantes: 77, Média do Índice de Depressão: 2.69\n",
            "Média do Índice de Depressão no Continente (Africa): 2.30\n",
            "\n",
            "Total de participantes em todos os continentes: 24655\n"
          ]
        }
      ]
    }
  ]
}
